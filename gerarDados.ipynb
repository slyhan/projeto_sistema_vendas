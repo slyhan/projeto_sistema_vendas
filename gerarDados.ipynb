{
 "cells": [
  {
   "cell_type": "code",
   "execution_count": 1,
   "id": "072450b8",
   "metadata": {},
   "outputs": [
    {
     "name": "stdout",
     "output_type": "stream",
     "text": [
      "Collecting faker\n",
      "  Downloading faker-37.3.0-py3-none-any.whl.metadata (15 kB)\n",
      "Requirement already satisfied: tzdata in c:\\users\\jessica\\appdata\\local\\programs\\python\\python312\\lib\\site-packages (from faker) (2024.1)\n",
      "Downloading faker-37.3.0-py3-none-any.whl (1.9 MB)\n",
      "   ---------------------------------------- 0.0/1.9 MB ? eta -:--:--\n",
      "   ---------------------------------------- 1.9/1.9 MB 17.9 MB/s eta 0:00:00\n",
      "Installing collected packages: faker\n",
      "Successfully installed faker-37.3.0\n"
     ]
    },
    {
     "name": "stderr",
     "output_type": "stream",
     "text": [
      "\n",
      "[notice] A new release of pip is available: 24.2 -> 25.1.1\n",
      "[notice] To update, run: python.exe -m pip install --upgrade pip\n"
     ]
    }
   ],
   "source": [
    "!pip install faker"
   ]
  },
  {
   "cell_type": "code",
   "execution_count": 2,
   "id": "afe26bc6",
   "metadata": {},
   "outputs": [],
   "source": [
    "from faker import Faker\n",
    "import random"
   ]
  },
  {
   "cell_type": "code",
   "execution_count": 4,
   "id": "17f34477",
   "metadata": {},
   "outputs": [],
   "source": [
    "fake = Faker('pt_BR')"
   ]
  },
  {
   "cell_type": "code",
   "execution_count": 3,
   "id": "2623fc60",
   "metadata": {},
   "outputs": [],
   "source": [
    "#Configurações\n",
    "num_vendas = 200 #quantidade de vendas\n",
    "num_itens_venda = 100 #quantidade de itens de venda\n",
    "\n"
   ]
  },
  {
   "cell_type": "code",
   "execution_count": 5,
   "id": "da2ab762",
   "metadata": {},
   "outputs": [],
   "source": [
    "# Gerar Vendas\n",
    "vendas = []\n",
    "for id_venda in range(1, num_vendas + 1):\n",
    "    idCliente = random.randint(1, 100)  # Supondo 100 clientes\n",
    "    idVendedor = random.randint(1, 10)  # Supondo 10 vendedores\n",
    "    dataVenda = fake.date_this_decade().strftime('%Y-%m-%d')\n",
    "    totalVenda = round(random.uniform(50.0, 2000.0), 2)\n",
    "    \n",
    "    vendas.append(f\"({id_venda}, {idCliente}, {idVendedor}, '{dataVenda}', {totalVenda})\")"
   ]
  },
  {
   "cell_type": "code",
   "execution_count": 6,
   "id": "8a4ce90b",
   "metadata": {},
   "outputs": [],
   "source": [
    "# Gerar ItensVenda\n",
    "itens_venda = []\n",
    "for id_item in range(1, num_itens_venda + 1):\n",
    "    idVenda = random.randint(1, num_vendas)\n",
    "    idProduto = random.randint(1, 50)  # Supondo 50 produtos\n",
    "    quantidade = random.randint(1, 10)\n",
    "    precoUnitario = round(random.uniform(10.0, 500.0), 2)\n",
    "    \n",
    "    itens_venda.append(f\"({id_item}, {idVenda}, {idProduto}, {quantidade}, {precoUnitario})\")"
   ]
  },
  {
   "cell_type": "code",
   "execution_count": 7,
   "id": "39c7dac3",
   "metadata": {},
   "outputs": [],
   "source": [
    "# Criar scripts de inserção\n",
    "script_vendas = \"INSERT INTO Vendas (idVenda, idCliente, idVendedor, dataVenda, totalVenda) VALUES\\n\"\n",
    "script_vendas += \",\\n\".join(vendas) + \";\""
   ]
  },
  {
   "cell_type": "code",
   "execution_count": 8,
   "id": "0c8857a6",
   "metadata": {},
   "outputs": [],
   "source": [
    "script_itens_venda = \"INSERT INTO ItensVenda (idItemVenda, idVenda, idProduto, quantidade, precoUnitario) VALUES\\n\"\n",
    "script_itens_venda += \",\\n\".join(itens_venda) + \";\""
   ]
  },
  {
   "cell_type": "code",
   "execution_count": 9,
   "id": "5314543d",
   "metadata": {},
   "outputs": [],
   "source": [
    "# Salvar em arquivos\n",
    "with open('vendas_inserts.sql', 'w', encoding='utf-8') as f:\n",
    "    f.write(script_vendas)"
   ]
  },
  {
   "cell_type": "code",
   "execution_count": 10,
   "id": "fd9d6f9f",
   "metadata": {},
   "outputs": [],
   "source": [
    "with open('itens_venda_inserts.sql', 'w', encoding='utf-8') as f:\n",
    "    f.write(script_itens_venda)"
   ]
  },
  {
   "cell_type": "code",
   "execution_count": 13,
   "id": "f4b77182",
   "metadata": {},
   "outputs": [
    {
     "name": "stdout",
     "output_type": "stream",
     "text": [
      "✅ Script de inserção para Pagamentos gerado com sucesso!\n"
     ]
    }
   ],
   "source": [
    "# Configurações\n",
    "num_pagamentos = 200  # Suponha que cada venda tenha um pagamento\n",
    "\n",
    "# Formas de pagamento possíveis\n",
    "formas_pagamento = ['Cartão de Crédito', 'Cartão de Débito', 'Dinheiro', 'Pix', 'Boleto']\n",
    "status_paga = ['Pago', 'Pendente']\n",
    "# Gerar Pagamentos\n",
    "pagamentos = []\n",
    "for idPagamento in range(1, num_pagamentos + 1):\n",
    "    idVenda = idPagamento  # Supondo um pagamento por venda\n",
    "    formaPagamento = random.choice(formas_pagamento)\n",
    "    valorPago = round(random.uniform(50.0, 2000.0), 2)\n",
    "    dataPagamento = fake.date_this_decade().strftime('%Y-%m-%d')\n",
    "    statusPagamento = random.choice(status_paga)\n",
    "\n",
    "    pagamento = f\"({idPagamento}, {idVenda}, '{formaPagamento}', {valorPago}, '{dataPagamento}', '{statusPagamento}')\"\n",
    "    pagamentos.append(pagamento)\n",
    "\n",
    "# Criar script de inserção\n",
    "script_pagamentos = \"INSERT INTO Pagamentos (idPagamento, idVenda, formaPagamento, valorPago, dataPagamento, statusPamento) VALUES\\n\"\n",
    "script_pagamentos += \",\\n\".join(pagamentos) + \";\"\n",
    "\n",
    "# Salvar em arquivo\n",
    "with open('pagamentos_inserts.sql', 'w', encoding='utf-8') as f:\n",
    "    f.write(script_pagamentos)\n",
    "\n",
    "print(\"✅ Script de inserção para Pagamentos gerado com sucesso!\")"
   ]
  },
  {
   "cell_type": "code",
   "execution_count": null,
   "id": "3e7ac27a",
   "metadata": {},
   "outputs": [],
   "source": []
  }
 ],
 "metadata": {
  "kernelspec": {
   "display_name": "Python 3",
   "language": "python",
   "name": "python3"
  },
  "language_info": {
   "codemirror_mode": {
    "name": "ipython",
    "version": 3
   },
   "file_extension": ".py",
   "mimetype": "text/x-python",
   "name": "python",
   "nbconvert_exporter": "python",
   "pygments_lexer": "ipython3",
   "version": "3.12.4"
  }
 },
 "nbformat": 4,
 "nbformat_minor": 5
}
